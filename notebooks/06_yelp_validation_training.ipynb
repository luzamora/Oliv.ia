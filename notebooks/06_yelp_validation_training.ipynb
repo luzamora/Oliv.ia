{
 "cells": [
  {
   "cell_type": "markdown",
   "id": "1f4d355a",
   "metadata": {},
   "source": [
    "# Validación por usuarios"
   ]
  },
  {
   "cell_type": "markdown",
   "id": "7c9b85bb",
   "metadata": {},
   "source": [
    "### Librerías"
   ]
  },
  {
   "cell_type": "code",
   "execution_count": 2,
   "id": "abac3135",
   "metadata": {},
   "outputs": [],
   "source": [
    "import pandas as pd\n",
    "import numpy as np\n",
    "import pandas as pd\n",
    "import warnings\n",
    "warnings.filterwarnings('always')\n",
    "warnings.filterwarnings('ignore')\n",
    "import ast"
   ]
  },
  {
   "cell_type": "markdown",
   "id": "124c3dfe",
   "metadata": {},
   "source": [
    "### Lectura datasets"
   ]
  },
  {
   "cell_type": "code",
   "execution_count": 3,
   "id": "9f39dee8",
   "metadata": {},
   "outputs": [
    {
     "data": {
      "text/html": [
       "<div>\n",
       "<style scoped>\n",
       "    .dataframe tbody tr th:only-of-type {\n",
       "        vertical-align: middle;\n",
       "    }\n",
       "\n",
       "    .dataframe tbody tr th {\n",
       "        vertical-align: top;\n",
       "    }\n",
       "\n",
       "    .dataframe thead th {\n",
       "        text-align: right;\n",
       "    }\n",
       "</style>\n",
       "<table border=\"1\" class=\"dataframe\">\n",
       "  <thead>\n",
       "    <tr style=\"text-align: right;\">\n",
       "      <th></th>\n",
       "      <th>business_id</th>\n",
       "      <th>name</th>\n",
       "      <th>address</th>\n",
       "      <th>city</th>\n",
       "      <th>state</th>\n",
       "      <th>postal_code</th>\n",
       "      <th>latitude</th>\n",
       "      <th>longitude</th>\n",
       "      <th>stars</th>\n",
       "      <th>review_count</th>\n",
       "      <th>attributes</th>\n",
       "      <th>categories</th>\n",
       "    </tr>\n",
       "  </thead>\n",
       "  <tbody>\n",
       "    <tr>\n",
       "      <th>0</th>\n",
       "      <td>MTSW4McQd7CbVtyjqoe9mw</td>\n",
       "      <td>St Honore Pastries</td>\n",
       "      <td>935 Race St</td>\n",
       "      <td>Philadelphia</td>\n",
       "      <td>PA</td>\n",
       "      <td>19107</td>\n",
       "      <td>39.955505</td>\n",
       "      <td>-75.155564</td>\n",
       "      <td>4.0</td>\n",
       "      <td>80</td>\n",
       "      <td>{'RestaurantsDelivery': 'False', 'OutdoorSeati...</td>\n",
       "      <td>['Bubble Tea', 'Coffee &amp; Tea', 'Bakeries']</td>\n",
       "    </tr>\n",
       "    <tr>\n",
       "      <th>1</th>\n",
       "      <td>CF33F8-E6oudUQ46HnavjQ</td>\n",
       "      <td>Sonic Drive-In</td>\n",
       "      <td>615 S Main St</td>\n",
       "      <td>Ashland City</td>\n",
       "      <td>TN</td>\n",
       "      <td>37015</td>\n",
       "      <td>36.269593</td>\n",
       "      <td>-87.058943</td>\n",
       "      <td>2.0</td>\n",
       "      <td>6</td>\n",
       "      <td>{'BusinessParking': 'None', 'BusinessAcceptsCr...</td>\n",
       "      <td>['Burgers', 'Fast Food', 'Sandwiches', 'Ice Cr...</td>\n",
       "    </tr>\n",
       "    <tr>\n",
       "      <th>2</th>\n",
       "      <td>k0hlBqXX-Bt0vf1op7Jr1w</td>\n",
       "      <td>Tsevi's Pub And Grill</td>\n",
       "      <td>8025 Mackenzie Rd</td>\n",
       "      <td>Affton</td>\n",
       "      <td>MO</td>\n",
       "      <td>63123</td>\n",
       "      <td>38.565165</td>\n",
       "      <td>-90.321087</td>\n",
       "      <td>3.0</td>\n",
       "      <td>19</td>\n",
       "      <td>{'Caters': 'True', 'Alcohol': 'Full_bar', 'Res...</td>\n",
       "      <td>['Pubs', 'Italian', 'Bars', 'American (Traditi...</td>\n",
       "    </tr>\n",
       "    <tr>\n",
       "      <th>3</th>\n",
       "      <td>bBDDEgkFA1Otx9Lfe7BZUQ</td>\n",
       "      <td>Sonic Drive-In</td>\n",
       "      <td>2312 Dickerson Pike</td>\n",
       "      <td>Nashville</td>\n",
       "      <td>TN</td>\n",
       "      <td>37207</td>\n",
       "      <td>36.208102</td>\n",
       "      <td>-86.768170</td>\n",
       "      <td>1.5</td>\n",
       "      <td>10</td>\n",
       "      <td>{'RestaurantsAttire': 'Casual', 'RestaurantsGo...</td>\n",
       "      <td>['Ice Cream &amp; Frozen Yogurt', 'Fast Food', 'Bu...</td>\n",
       "    </tr>\n",
       "    <tr>\n",
       "      <th>4</th>\n",
       "      <td>eEOYSgkmpB90uNA7lDOMRA</td>\n",
       "      <td>Vietnamese Food Truck</td>\n",
       "      <td>NaN</td>\n",
       "      <td>Tampa Bay</td>\n",
       "      <td>FL</td>\n",
       "      <td>33602</td>\n",
       "      <td>27.955269</td>\n",
       "      <td>-82.456320</td>\n",
       "      <td>4.0</td>\n",
       "      <td>10</td>\n",
       "      <td>{'Alcohol': 'None', 'OutdoorSeating': 'None', ...</td>\n",
       "      <td>['Vietnamese', 'Food Trucks']</td>\n",
       "    </tr>\n",
       "  </tbody>\n",
       "</table>\n",
       "</div>"
      ],
      "text/plain": [
       "              business_id                   name              address  \\\n",
       "0  MTSW4McQd7CbVtyjqoe9mw     St Honore Pastries          935 Race St   \n",
       "1  CF33F8-E6oudUQ46HnavjQ         Sonic Drive-In        615 S Main St   \n",
       "2  k0hlBqXX-Bt0vf1op7Jr1w  Tsevi's Pub And Grill    8025 Mackenzie Rd   \n",
       "3  bBDDEgkFA1Otx9Lfe7BZUQ         Sonic Drive-In  2312 Dickerson Pike   \n",
       "4  eEOYSgkmpB90uNA7lDOMRA  Vietnamese Food Truck                  NaN   \n",
       "\n",
       "           city state postal_code   latitude  longitude  stars  review_count  \\\n",
       "0  Philadelphia    PA       19107  39.955505 -75.155564    4.0            80   \n",
       "1  Ashland City    TN       37015  36.269593 -87.058943    2.0             6   \n",
       "2        Affton    MO       63123  38.565165 -90.321087    3.0            19   \n",
       "3     Nashville    TN       37207  36.208102 -86.768170    1.5            10   \n",
       "4     Tampa Bay    FL       33602  27.955269 -82.456320    4.0            10   \n",
       "\n",
       "                                          attributes  \\\n",
       "0  {'RestaurantsDelivery': 'False', 'OutdoorSeati...   \n",
       "1  {'BusinessParking': 'None', 'BusinessAcceptsCr...   \n",
       "2  {'Caters': 'True', 'Alcohol': 'Full_bar', 'Res...   \n",
       "3  {'RestaurantsAttire': 'Casual', 'RestaurantsGo...   \n",
       "4  {'Alcohol': 'None', 'OutdoorSeating': 'None', ...   \n",
       "\n",
       "                                          categories  \n",
       "0         ['Bubble Tea', 'Coffee & Tea', 'Bakeries']  \n",
       "1  ['Burgers', 'Fast Food', 'Sandwiches', 'Ice Cr...  \n",
       "2  ['Pubs', 'Italian', 'Bars', 'American (Traditi...  \n",
       "3  ['Ice Cream & Frozen Yogurt', 'Fast Food', 'Bu...  \n",
       "4                      ['Vietnamese', 'Food Trucks']  "
      ]
     },
     "execution_count": 3,
     "metadata": {},
     "output_type": "execute_result"
    }
   ],
   "source": [
    "yelp_business_text = pd.read_csv(\"yelp_business.csv\")\n",
    "yelp_business_text.head()"
   ]
  },
  {
   "cell_type": "code",
   "execution_count": 4,
   "id": "d2b7ac9a",
   "metadata": {},
   "outputs": [
    {
     "data": {
      "text/html": [
       "<div>\n",
       "<style scoped>\n",
       "    .dataframe tbody tr th:only-of-type {\n",
       "        vertical-align: middle;\n",
       "    }\n",
       "\n",
       "    .dataframe tbody tr th {\n",
       "        vertical-align: top;\n",
       "    }\n",
       "\n",
       "    .dataframe thead th {\n",
       "        text-align: right;\n",
       "    }\n",
       "</style>\n",
       "<table border=\"1\" class=\"dataframe\">\n",
       "  <thead>\n",
       "    <tr style=\"text-align: right;\">\n",
       "      <th></th>\n",
       "      <th>review_id</th>\n",
       "      <th>user_id</th>\n",
       "      <th>business_id</th>\n",
       "      <th>stars</th>\n",
       "      <th>text</th>\n",
       "    </tr>\n",
       "  </thead>\n",
       "  <tbody>\n",
       "    <tr>\n",
       "      <th>0</th>\n",
       "      <td>KU_O5udG6zpxOg-VcAEodg</td>\n",
       "      <td>mh_-eMZ6K5RLWhZyISBhwA</td>\n",
       "      <td>XQfwVwDr-v0ZS3_CbbE5Xw</td>\n",
       "      <td>3.0</td>\n",
       "      <td>Rated 3.0 stars out of 5. If you decide to eat...</td>\n",
       "    </tr>\n",
       "    <tr>\n",
       "      <th>1</th>\n",
       "      <td>saUsX_uimxRlCVr67Z4Jig</td>\n",
       "      <td>8g_iMtfSiwikVnbP2etR0A</td>\n",
       "      <td>YjUWPpI6HXG530lwP-fb2A</td>\n",
       "      <td>3.0</td>\n",
       "      <td>Rated 3.0 stars out of 5. Family diner. Had th...</td>\n",
       "    </tr>\n",
       "    <tr>\n",
       "      <th>2</th>\n",
       "      <td>AqPFMleE6RsU23_auESxiA</td>\n",
       "      <td>_7bHUi9Uuf5__HHc_Q8guQ</td>\n",
       "      <td>kxX2SOes4o-D3ZQBkiMRfA</td>\n",
       "      <td>5.0</td>\n",
       "      <td>Rated 5.0 stars out of 5. Wow!  Yummy, differe...</td>\n",
       "    </tr>\n",
       "    <tr>\n",
       "      <th>3</th>\n",
       "      <td>Sx8TMOWLNuJBWer-0pcmoA</td>\n",
       "      <td>bcjbaE6dDog4jkNY91ncLQ</td>\n",
       "      <td>e4Vwtrqf-wpJfwesgvdgxQ</td>\n",
       "      <td>4.0</td>\n",
       "      <td>Rated 4.0 stars out of 5. Cute interior and ow...</td>\n",
       "    </tr>\n",
       "    <tr>\n",
       "      <th>4</th>\n",
       "      <td>JrIxlS1TzJ-iCu79ul40cQ</td>\n",
       "      <td>eUta8W_HdHMXPzLBBZhL1A</td>\n",
       "      <td>04UD14gamNjLY0IDYVhHJg</td>\n",
       "      <td>1.0</td>\n",
       "      <td>Rated 1.0 stars out of 5. I am a long term fre...</td>\n",
       "    </tr>\n",
       "  </tbody>\n",
       "</table>\n",
       "</div>"
      ],
      "text/plain": [
       "                review_id                 user_id             business_id  \\\n",
       "0  KU_O5udG6zpxOg-VcAEodg  mh_-eMZ6K5RLWhZyISBhwA  XQfwVwDr-v0ZS3_CbbE5Xw   \n",
       "1  saUsX_uimxRlCVr67Z4Jig  8g_iMtfSiwikVnbP2etR0A  YjUWPpI6HXG530lwP-fb2A   \n",
       "2  AqPFMleE6RsU23_auESxiA  _7bHUi9Uuf5__HHc_Q8guQ  kxX2SOes4o-D3ZQBkiMRfA   \n",
       "3  Sx8TMOWLNuJBWer-0pcmoA  bcjbaE6dDog4jkNY91ncLQ  e4Vwtrqf-wpJfwesgvdgxQ   \n",
       "4  JrIxlS1TzJ-iCu79ul40cQ  eUta8W_HdHMXPzLBBZhL1A  04UD14gamNjLY0IDYVhHJg   \n",
       "\n",
       "   stars                                               text  \n",
       "0    3.0  Rated 3.0 stars out of 5. If you decide to eat...  \n",
       "1    3.0  Rated 3.0 stars out of 5. Family diner. Had th...  \n",
       "2    5.0  Rated 5.0 stars out of 5. Wow!  Yummy, differe...  \n",
       "3    4.0  Rated 4.0 stars out of 5. Cute interior and ow...  \n",
       "4    1.0  Rated 1.0 stars out of 5. I am a long term fre...  "
      ]
     },
     "execution_count": 4,
     "metadata": {},
     "output_type": "execute_result"
    }
   ],
   "source": [
    "yelp_reviews = pd.read_csv(\"yelp_reviews_for_validation.csv\")\n",
    "yelp_reviews.head()"
   ]
  },
  {
   "cell_type": "code",
   "execution_count": 5,
   "id": "89964aef",
   "metadata": {},
   "outputs": [
    {
     "data": {
      "text/html": [
       "<div>\n",
       "<style scoped>\n",
       "    .dataframe tbody tr th:only-of-type {\n",
       "        vertical-align: middle;\n",
       "    }\n",
       "\n",
       "    .dataframe tbody tr th {\n",
       "        vertical-align: top;\n",
       "    }\n",
       "\n",
       "    .dataframe thead th {\n",
       "        text-align: right;\n",
       "    }\n",
       "</style>\n",
       "<table border=\"1\" class=\"dataframe\">\n",
       "  <thead>\n",
       "    <tr style=\"text-align: right;\">\n",
       "      <th></th>\n",
       "      <th>user_id</th>\n",
       "      <th>business_id</th>\n",
       "      <th>text</th>\n",
       "    </tr>\n",
       "  </thead>\n",
       "  <tbody>\n",
       "    <tr>\n",
       "      <th>0</th>\n",
       "      <td>7RU_xK1tEGlUvXfe0GvtEg</td>\n",
       "      <td>hAmuto6UndVroyd_DaD-TA</td>\n",
       "      <td>[Rated 5.0 stars out of 5. Love Marcos Pizza. ...</td>\n",
       "    </tr>\n",
       "    <tr>\n",
       "      <th>1</th>\n",
       "      <td>mqBWACmaHflW4eh_Ofp16Q</td>\n",
       "      <td>kxX2SOes4o-D3ZQBkiMRfA</td>\n",
       "      <td>[Rated 5.0 stars out of 5. That bitter sweet d...</td>\n",
       "    </tr>\n",
       "    <tr>\n",
       "      <th>2</th>\n",
       "      <td>jG-t2tqFuZLdqRHNn_y9bQ</td>\n",
       "      <td>7UxNDF6ZpabC3O0-Qbg3Xw</td>\n",
       "      <td>[Rated 5.0 stars out of 5. Atmosphere was plea...</td>\n",
       "    </tr>\n",
       "    <tr>\n",
       "      <th>3</th>\n",
       "      <td>sHfY5a4-HPa9dhSSBvQK6Q</td>\n",
       "      <td>jQBPO3rYkNwIaOdQS5ktgQ</td>\n",
       "      <td>[Rated 5.0 stars out of 5. I can't get enough ...</td>\n",
       "    </tr>\n",
       "    <tr>\n",
       "      <th>4</th>\n",
       "      <td>JPhPZcdUXSSeplvPfW7Auw</td>\n",
       "      <td>Nd_3fSvYDCjM8YJdBx4Y9w</td>\n",
       "      <td>[Rated 4.0 stars out of 5. Cozy atmosphere, fr...</td>\n",
       "    </tr>\n",
       "  </tbody>\n",
       "</table>\n",
       "</div>"
      ],
      "text/plain": [
       "                  user_id             business_id  \\\n",
       "0  7RU_xK1tEGlUvXfe0GvtEg  hAmuto6UndVroyd_DaD-TA   \n",
       "1  mqBWACmaHflW4eh_Ofp16Q  kxX2SOes4o-D3ZQBkiMRfA   \n",
       "2  jG-t2tqFuZLdqRHNn_y9bQ  7UxNDF6ZpabC3O0-Qbg3Xw   \n",
       "3  sHfY5a4-HPa9dhSSBvQK6Q  jQBPO3rYkNwIaOdQS5ktgQ   \n",
       "4  JPhPZcdUXSSeplvPfW7Auw  Nd_3fSvYDCjM8YJdBx4Y9w   \n",
       "\n",
       "                                                text  \n",
       "0  [Rated 5.0 stars out of 5. Love Marcos Pizza. ...  \n",
       "1  [Rated 5.0 stars out of 5. That bitter sweet d...  \n",
       "2  [Rated 5.0 stars out of 5. Atmosphere was plea...  \n",
       "3  [Rated 5.0 stars out of 5. I can't get enough ...  \n",
       "4  [Rated 4.0 stars out of 5. Cozy atmosphere, fr...  "
      ]
     },
     "execution_count": 5,
     "metadata": {},
     "output_type": "execute_result"
    }
   ],
   "source": [
    "yelp_queries = pd.read_csv(\"yelp_validation.csv\")\n",
    "yelp_queries[\"text\"] = yelp_queries[\"text\"].apply(ast.literal_eval)\n",
    "yelp_queries.head()"
   ]
  },
  {
   "cell_type": "markdown",
   "id": "a1bcd933",
   "metadata": {},
   "source": [
    "### Embeddings restaurantes"
   ]
  },
  {
   "cell_type": "code",
   "execution_count": 5,
   "id": "94d45203",
   "metadata": {},
   "outputs": [],
   "source": [
    "def review_embeddings_training(business_dataset, reviews_dataset, merge_id = \"business_id\", text_column = \"text\", return_individual_embeddings = False):\n",
    "    from sentence_transformers import SentenceTransformer\n",
    "\n",
    "    # 1. Unir datasets por ID\n",
    "    print(\"Merging datasets...\")\n",
    "    reviews_df_gouped = reviews_dataset.groupby(merge_id)[text_column].apply(list).reset_index()\n",
    "    df = pd.merge(business_dataset, reviews_df_gouped, on=merge_id, how=\"left\")\n",
    "    print(\"Merge complete\")\n",
    "\n",
    "    # 2. Obtención de los embeddings individuales\n",
    "    model = SentenceTransformer('all-MiniLM-L6-v2')\n",
    "\n",
    "    all_ind_reviews = [review for sublist in df.text for review in sublist]\n",
    "    print(\"Total reviews to embed:\", len(all_ind_reviews))\n",
    "\n",
    "    print(\"Embed in process:\")\n",
    "    ind_reviews_emb = model.encode(all_ind_reviews,\n",
    "                               show_progress_bar = True)\n",
    "    print(\"Embedding completed\")\n",
    "    print(\"Embeddings shape:\", ind_reviews_emb.shape)\n",
    "\n",
    "    # 2. Pooling medio por restaurante\n",
    "    business_pooled_emb = []\n",
    "    current_emb_idx = 0\n",
    "\n",
    "    print(\"Pooling embeddings...\")\n",
    "    for index, row in df.iterrows():\n",
    "        num_rev_business = len(row[text_column])\n",
    "\n",
    "        start_idx = current_emb_idx\n",
    "        end_idx = current_emb_idx + num_rev_business\n",
    "\n",
    "        emb_current_business = ind_reviews_emb[start_idx:end_idx]\n",
    "        pooled_emb = np.mean(emb_current_business, axis = 0)\n",
    "\n",
    "        business_pooled_emb.append(pooled_emb)\n",
    "\n",
    "        current_emb_idx = end_idx\n",
    "    print(\"Pooling completed\")\n",
    "    \n",
    "    # Salida\n",
    "    if return_individual_embeddings:\n",
    "        return ind_reviews_emb, business_pooled_emb\n",
    "    \n",
    "    return business_pooled_emb"
   ]
  },
  {
   "cell_type": "code",
   "execution_count": 6,
   "id": "dafd3775",
   "metadata": {},
   "outputs": [
    {
     "name": "stdout",
     "output_type": "stream",
     "text": [
      "WARNING:tensorflow:From c:\\Users\\arran\\Documents\\Curso Inteligencia Artificial\\Proyecto\\venv\\Lib\\site-packages\\tf_keras\\src\\losses.py:2976: The name tf.losses.sparse_softmax_cross_entropy is deprecated. Please use tf.compat.v1.losses.sparse_softmax_cross_entropy instead.\n",
      "\n",
      "Merging datasets...\n",
      "Merge complete\n",
      "Total reviews to embed: 4279039\n",
      "Embed in process:\n"
     ]
    },
    {
     "name": "stderr",
     "output_type": "stream",
     "text": [
      "Batches: 100%|██████████| 133720/133720 [1:17:32<00:00, 28.74it/s] \n"
     ]
    },
    {
     "name": "stdout",
     "output_type": "stream",
     "text": [
      "Embedding completed\n",
      "Embeddings shape: (4279039, 384)\n",
      "Pooling embeddings...\n",
      "Pooling completed\n"
     ]
    }
   ],
   "source": [
    "restaurant_pooled_emb = review_embeddings_training(yelp_business_text, yelp_reviews)"
   ]
  },
  {
   "cell_type": "code",
   "execution_count": 7,
   "id": "97758f84",
   "metadata": {},
   "outputs": [
    {
     "name": "stdout",
     "output_type": "stream",
     "text": [
      "Embeddings guardados en validation_reviews_emb.csv\n"
     ]
    }
   ],
   "source": [
    "df_embeddings = pd.DataFrame(restaurant_pooled_emb)\n",
    "df_embeddings.head()\n",
    "filename = \"validation_reviews_emb.csv\"\n",
    "df_embeddings.to_csv(filename, index = False)\n",
    "print(\"Embeddings guardados en\", filename)"
   ]
  },
  {
   "cell_type": "markdown",
   "id": "216fdbe8",
   "metadata": {},
   "source": [
    "### Embeddings queries"
   ]
  },
  {
   "cell_type": "code",
   "execution_count": 6,
   "id": "d6561dbd",
   "metadata": {},
   "outputs": [
    {
     "name": "stdout",
     "output_type": "stream",
     "text": [
      "Total reviews to embed: 241611\n",
      "Embed in process:\n"
     ]
    },
    {
     "name": "stderr",
     "output_type": "stream",
     "text": [
      "Batches: 100%|██████████| 7551/7551 [03:08<00:00, 40.12it/s] \n"
     ]
    },
    {
     "name": "stdout",
     "output_type": "stream",
     "text": [
      "Embedding completed\n",
      "Embeddings shape: (241611, 384)\n",
      "Pooling embeddings...\n",
      "Pooling completed\n"
     ]
    },
    {
     "data": {
      "text/plain": [
       "(10000, 384)"
      ]
     },
     "execution_count": 6,
     "metadata": {},
     "output_type": "execute_result"
    }
   ],
   "source": [
    "from sentence_transformers import SentenceTransformer\n",
    "\n",
    "df = yelp_queries.copy()\n",
    "\n",
    "# 2. Obtención de los embeddings individuales\n",
    "model = SentenceTransformer('all-MiniLM-L6-v2')\n",
    "\n",
    "all_ind_reviews_q = [review for sublist in df.text for review in sublist]\n",
    "print(\"Total reviews to embed:\", len(all_ind_reviews_q))\n",
    "\n",
    "print(\"Embed in process:\")\n",
    "ind_reviews_emb = model.encode(all_ind_reviews_q,\n",
    "                            show_progress_bar = True)\n",
    "print(\"Embedding completed\")\n",
    "print(\"Embeddings shape:\", ind_reviews_emb.shape)\n",
    "\n",
    "queries_emb = []\n",
    "current_emb_idx = 0\n",
    "\n",
    "print(\"Pooling embeddings...\")\n",
    "for index, row in df.iterrows():\n",
    "    num_rev_business = len(row[\"text\"])\n",
    "\n",
    "    start_idx = current_emb_idx\n",
    "    end_idx = current_emb_idx + num_rev_business\n",
    "\n",
    "    # Esta es una porción del array\n",
    "    business_embs = ind_reviews_emb[start_idx:end_idx]\n",
    "    pooled_emb = np.mean(business_embs, axis=0)\n",
    "\n",
    "    # Ahora sí usamos .append() sobre la lista\n",
    "    queries_emb.append(pooled_emb)\n",
    "\n",
    "    current_emb_idx = end_idx\n",
    "\n",
    "print(\"Pooling completed\")\n",
    "\n",
    "# Convertimos la lista de vectores a array\n",
    "queries_emb = np.array(queries_emb)\n",
    "queries_emb.shape"
   ]
  },
  {
   "cell_type": "code",
   "execution_count": 8,
   "id": "5373885e",
   "metadata": {},
   "outputs": [
    {
     "name": "stdout",
     "output_type": "stream",
     "text": [
      "Embeddings guardados en validation_queries_emb.csv\n"
     ]
    }
   ],
   "source": [
    "queries_emb = pd.DataFrame(queries_emb)\n",
    "queries_emb.head()\n",
    "filename = \"validation_queries_emb.csv\"\n",
    "queries_emb.to_csv(filename, index = False)\n",
    "print(\"Embeddings guardados en\", filename)"
   ]
  },
  {
   "cell_type": "code",
   "execution_count": 24,
   "id": "ad08b112",
   "metadata": {},
   "outputs": [
    {
     "name": "stderr",
     "output_type": "stream",
     "text": [
      "100%|██████████| 10000/10000 [09:04<00:00, 18.36it/s]\n"
     ]
    }
   ],
   "source": [
    "from sklearn.metrics.pairwise import cosine_similarity\n",
    "import numpy as np\n",
    "from tqdm import tqdm\n",
    "\n",
    "# Inicializar columnas\n",
    "for k in [1, 5, 10, 50]:\n",
    "    yelp_queries[f\"top{k}\"] = False\n",
    "\n",
    "for i in tqdm(range(len(queries_emb))):\n",
    "    \n",
    "    # ID y ciudad del restaurante real\n",
    "    target_business_id = yelp_queries.loc[i, \"business_id\"]\n",
    "    target_row = yelp_business_text[yelp_business_text[\"business_id\"] == target_business_id]\n",
    "    \n",
    "    if target_row.empty:\n",
    "        continue  # salta si no hay match (por seguridad)\n",
    "\n",
    "    target_city = target_row[\"city\"].values[0]\n",
    "    target_cats_str = target_row[\"categories\"].values[0]\n",
    "    target_cats = set([cat.strip().lower() for cat in target_cats_str.split(\",\")])\n",
    "\n",
    "    # Filtrar restaurantes por ciudad\n",
    "    city_mask = (yelp_business_text[\"city\"] == target_city)\n",
    "\n",
    "    # Filtrar por categoría (usamos apply)\n",
    "    def has_overlap(cats):\n",
    "        if isinstance(cats, str):\n",
    "            cat_set = set([c.strip().lower() for c in cats.split(\",\")])\n",
    "            return not target_cats.isdisjoint(cat_set)\n",
    "        return False\n",
    "\n",
    "    cat_mask = yelp_business_text[\"categories\"].apply(has_overlap)\n",
    "\n",
    "    # Combinar ambas condiciones\n",
    "    combined_mask = (city_mask & cat_mask).values\n",
    "    filtered_restaurants = yelp_business_text[combined_mask].reset_index(drop=True)\n",
    "    filtered_embeddings = restaurant_pooled_emb[combined_mask]\n",
    "\n",
    "    if filtered_embeddings.shape[0] == 0:\n",
    "        continue  # saltar si no hay restaurantes filtrados\n",
    "\n",
    "    # Calcular similitudes\n",
    "    cosine_similarities = cosine_similarity(\n",
    "        queries_emb[i].reshape(1, -1),\n",
    "        filtered_embeddings\n",
    "    )[0]\n",
    "\n",
    "    sorted_indices = np.argsort(cosine_similarities)[::-1]\n",
    "\n",
    "    for k in [1, 5, 10, 50]:\n",
    "        top_k_indices = sorted_indices[:k]\n",
    "        top_k_business_ids = filtered_restaurants.iloc[top_k_indices][\"business_id\"].values\n",
    "\n",
    "        if target_business_id in top_k_business_ids:\n",
    "            yelp_queries.loc[i, f\"top{k}\"] = True"
   ]
  },
  {
   "cell_type": "code",
   "execution_count": 25,
   "id": "2d71c088",
   "metadata": {},
   "outputs": [
    {
     "name": "stdout",
     "output_type": "stream",
     "text": [
      "Top-1 Accuracy: 14.05%\n",
      "Top-5 Recall: 33.50%\n",
      "Top-10 Recall: 43.08%\n",
      "Top-50 Recall: 68.98%\n"
     ]
    }
   ],
   "source": [
    "accuracy_at_1 = yelp_queries[\"top1\"].mean()\n",
    "recall_at_5 = yelp_queries[\"top5\"].mean()\n",
    "recall_at_10 = yelp_queries[\"top10\"].mean()\n",
    "recall_at_50 = yelp_queries[\"top50\"].mean()\n",
    "\n",
    "print(f\"Top-1 Accuracy: {accuracy_at_1:.2%}\")\n",
    "print(f\"Top-5 Recall: {recall_at_5:.2%}\")\n",
    "print(f\"Top-10 Recall: {recall_at_10:.2%}\")\n",
    "print(f\"Top-50 Recall: {recall_at_50:.2%}\")"
   ]
  }
 ],
 "metadata": {
  "kernelspec": {
   "display_name": "venv",
   "language": "python",
   "name": "python3"
  },
  "language_info": {
   "codemirror_mode": {
    "name": "ipython",
    "version": 3
   },
   "file_extension": ".py",
   "mimetype": "text/x-python",
   "name": "python",
   "nbconvert_exporter": "python",
   "pygments_lexer": "ipython3",
   "version": "3.12.1"
  }
 },
 "nbformat": 4,
 "nbformat_minor": 5
}
