{
 "cells": [
  {
   "cell_type": "markdown",
   "id": "89a8200e",
   "metadata": {},
   "source": [
    "# Procesamiento de los datos para validación"
   ]
  },
  {
   "cell_type": "code",
   "execution_count": 1,
   "id": "47d611b4",
   "metadata": {},
   "outputs": [],
   "source": [
    "import pandas as pd"
   ]
  },
  {
   "cell_type": "markdown",
   "id": "f9ce4ba2",
   "metadata": {},
   "source": [
    "## 1. Carga de los datos"
   ]
  },
  {
   "cell_type": "code",
   "execution_count": null,
   "id": "eabdde7d",
   "metadata": {},
   "outputs": [
    {
     "name": "stdout",
     "output_type": "stream",
     "text": [
      "Total reviews: 4629668\n"
     ]
    },
    {
     "data": {
      "text/html": [
       "<div>\n",
       "<style scoped>\n",
       "    .dataframe tbody tr th:only-of-type {\n",
       "        vertical-align: middle;\n",
       "    }\n",
       "\n",
       "    .dataframe tbody tr th {\n",
       "        vertical-align: top;\n",
       "    }\n",
       "\n",
       "    .dataframe thead th {\n",
       "        text-align: right;\n",
       "    }\n",
       "</style>\n",
       "<table border=\"1\" class=\"dataframe\">\n",
       "  <thead>\n",
       "    <tr style=\"text-align: right;\">\n",
       "      <th></th>\n",
       "      <th>review_id</th>\n",
       "      <th>user_id</th>\n",
       "      <th>business_id</th>\n",
       "      <th>stars</th>\n",
       "      <th>text</th>\n",
       "    </tr>\n",
       "  </thead>\n",
       "  <tbody>\n",
       "    <tr>\n",
       "      <th>0</th>\n",
       "      <td>KU_O5udG6zpxOg-VcAEodg</td>\n",
       "      <td>mh_-eMZ6K5RLWhZyISBhwA</td>\n",
       "      <td>XQfwVwDr-v0ZS3_CbbE5Xw</td>\n",
       "      <td>3.0</td>\n",
       "      <td>Rated 3.0 stars out of 5. If you decide to eat...</td>\n",
       "    </tr>\n",
       "    <tr>\n",
       "      <th>1</th>\n",
       "      <td>saUsX_uimxRlCVr67Z4Jig</td>\n",
       "      <td>8g_iMtfSiwikVnbP2etR0A</td>\n",
       "      <td>YjUWPpI6HXG530lwP-fb2A</td>\n",
       "      <td>3.0</td>\n",
       "      <td>Rated 3.0 stars out of 5. Family diner. Had th...</td>\n",
       "    </tr>\n",
       "    <tr>\n",
       "      <th>2</th>\n",
       "      <td>AqPFMleE6RsU23_auESxiA</td>\n",
       "      <td>_7bHUi9Uuf5__HHc_Q8guQ</td>\n",
       "      <td>kxX2SOes4o-D3ZQBkiMRfA</td>\n",
       "      <td>5.0</td>\n",
       "      <td>Rated 5.0 stars out of 5. Wow!  Yummy, differe...</td>\n",
       "    </tr>\n",
       "    <tr>\n",
       "      <th>3</th>\n",
       "      <td>Sx8TMOWLNuJBWer-0pcmoA</td>\n",
       "      <td>bcjbaE6dDog4jkNY91ncLQ</td>\n",
       "      <td>e4Vwtrqf-wpJfwesgvdgxQ</td>\n",
       "      <td>4.0</td>\n",
       "      <td>Rated 4.0 stars out of 5. Cute interior and ow...</td>\n",
       "    </tr>\n",
       "    <tr>\n",
       "      <th>4</th>\n",
       "      <td>JrIxlS1TzJ-iCu79ul40cQ</td>\n",
       "      <td>eUta8W_HdHMXPzLBBZhL1A</td>\n",
       "      <td>04UD14gamNjLY0IDYVhHJg</td>\n",
       "      <td>1.0</td>\n",
       "      <td>Rated 1.0 stars out of 5. I am a long term fre...</td>\n",
       "    </tr>\n",
       "  </tbody>\n",
       "</table>\n",
       "</div>"
      ],
      "text/plain": [
       "                review_id                 user_id             business_id  \\\n",
       "0  KU_O5udG6zpxOg-VcAEodg  mh_-eMZ6K5RLWhZyISBhwA  XQfwVwDr-v0ZS3_CbbE5Xw   \n",
       "1  saUsX_uimxRlCVr67Z4Jig  8g_iMtfSiwikVnbP2etR0A  YjUWPpI6HXG530lwP-fb2A   \n",
       "2  AqPFMleE6RsU23_auESxiA  _7bHUi9Uuf5__HHc_Q8guQ  kxX2SOes4o-D3ZQBkiMRfA   \n",
       "3  Sx8TMOWLNuJBWer-0pcmoA  bcjbaE6dDog4jkNY91ncLQ  e4Vwtrqf-wpJfwesgvdgxQ   \n",
       "4  JrIxlS1TzJ-iCu79ul40cQ  eUta8W_HdHMXPzLBBZhL1A  04UD14gamNjLY0IDYVhHJg   \n",
       "\n",
       "   stars                                               text  \n",
       "0    3.0  Rated 3.0 stars out of 5. If you decide to eat...  \n",
       "1    3.0  Rated 3.0 stars out of 5. Family diner. Had th...  \n",
       "2    5.0  Rated 5.0 stars out of 5. Wow!  Yummy, differe...  \n",
       "3    4.0  Rated 4.0 stars out of 5. Cute interior and ow...  \n",
       "4    1.0  Rated 1.0 stars out of 5. I am a long term fre...  "
      ]
     },
     "execution_count": 2,
     "metadata": {},
     "output_type": "execute_result"
    }
   ],
   "source": [
    "yelp_reviews = pd.read_parquet(\"../datasets/yelp_reviews.parquet\")\n",
    "print(\"Total reviews:\", yelp_reviews.shape[0])\n",
    "yelp_reviews.head()"
   ]
  },
  {
   "cell_type": "markdown",
   "id": "1c9e57cf",
   "metadata": {},
   "source": [
    "## 2. Selección de los usuarios de test"
   ]
  },
  {
   "cell_type": "code",
   "execution_count": 3,
   "id": "0aef30e1",
   "metadata": {},
   "outputs": [
    {
     "data": {
      "text/html": [
       "<div>\n",
       "<style scoped>\n",
       "    .dataframe tbody tr th:only-of-type {\n",
       "        vertical-align: middle;\n",
       "    }\n",
       "\n",
       "    .dataframe tbody tr th {\n",
       "        vertical-align: top;\n",
       "    }\n",
       "\n",
       "    .dataframe thead th {\n",
       "        text-align: right;\n",
       "    }\n",
       "</style>\n",
       "<table border=\"1\" class=\"dataframe\">\n",
       "  <thead>\n",
       "    <tr style=\"text-align: right;\">\n",
       "      <th></th>\n",
       "      <th>review_id</th>\n",
       "      <th>user_id</th>\n",
       "      <th>business_id</th>\n",
       "      <th>stars</th>\n",
       "      <th>text</th>\n",
       "    </tr>\n",
       "  </thead>\n",
       "  <tbody>\n",
       "    <tr>\n",
       "      <th>2</th>\n",
       "      <td>AqPFMleE6RsU23_auESxiA</td>\n",
       "      <td>_7bHUi9Uuf5__HHc_Q8guQ</td>\n",
       "      <td>kxX2SOes4o-D3ZQBkiMRfA</td>\n",
       "      <td>5.0</td>\n",
       "      <td>Rated 5.0 stars out of 5. Wow!  Yummy, differe...</td>\n",
       "    </tr>\n",
       "    <tr>\n",
       "      <th>3</th>\n",
       "      <td>Sx8TMOWLNuJBWer-0pcmoA</td>\n",
       "      <td>bcjbaE6dDog4jkNY91ncLQ</td>\n",
       "      <td>e4Vwtrqf-wpJfwesgvdgxQ</td>\n",
       "      <td>4.0</td>\n",
       "      <td>Rated 4.0 stars out of 5. Cute interior and ow...</td>\n",
       "    </tr>\n",
       "    <tr>\n",
       "      <th>5</th>\n",
       "      <td>_ZeMknuYdlQcUqng_Im3yg</td>\n",
       "      <td>yfFzsLmaWF2d4Sr0UNbBgg</td>\n",
       "      <td>LHSTtnW3YHCeUkRDGyJOyw</td>\n",
       "      <td>5.0</td>\n",
       "      <td>Rated 5.0 stars out of 5. Amazingly amazing wi...</td>\n",
       "    </tr>\n",
       "    <tr>\n",
       "      <th>7</th>\n",
       "      <td>l3Wk_mvAog6XANIuGQ9C7Q</td>\n",
       "      <td>ZbqSHbgCjzVAqaa7NKWn5A</td>\n",
       "      <td>EQ-TZ2eeD_E0BHuvoaeG5Q</td>\n",
       "      <td>4.0</td>\n",
       "      <td>Rated 4.0 stars out of 5. Locals recommended M...</td>\n",
       "    </tr>\n",
       "    <tr>\n",
       "      <th>8</th>\n",
       "      <td>XW_LfMv0fV21l9c6xQd_lw</td>\n",
       "      <td>9OAtfnWag-ajVxRbUTGIyg</td>\n",
       "      <td>lj-E32x9_FA7GmUrBGBEWg</td>\n",
       "      <td>4.0</td>\n",
       "      <td>Rated 4.0 stars out of 5. Love going here for ...</td>\n",
       "    </tr>\n",
       "  </tbody>\n",
       "</table>\n",
       "</div>"
      ],
      "text/plain": [
       "                review_id                 user_id             business_id  \\\n",
       "2  AqPFMleE6RsU23_auESxiA  _7bHUi9Uuf5__HHc_Q8guQ  kxX2SOes4o-D3ZQBkiMRfA   \n",
       "3  Sx8TMOWLNuJBWer-0pcmoA  bcjbaE6dDog4jkNY91ncLQ  e4Vwtrqf-wpJfwesgvdgxQ   \n",
       "5  _ZeMknuYdlQcUqng_Im3yg  yfFzsLmaWF2d4Sr0UNbBgg  LHSTtnW3YHCeUkRDGyJOyw   \n",
       "7  l3Wk_mvAog6XANIuGQ9C7Q  ZbqSHbgCjzVAqaa7NKWn5A  EQ-TZ2eeD_E0BHuvoaeG5Q   \n",
       "8  XW_LfMv0fV21l9c6xQd_lw  9OAtfnWag-ajVxRbUTGIyg  lj-E32x9_FA7GmUrBGBEWg   \n",
       "\n",
       "   stars                                               text  \n",
       "2    5.0  Rated 5.0 stars out of 5. Wow!  Yummy, differe...  \n",
       "3    4.0  Rated 4.0 stars out of 5. Cute interior and ow...  \n",
       "5    5.0  Rated 5.0 stars out of 5. Amazingly amazing wi...  \n",
       "7    4.0  Rated 4.0 stars out of 5. Locals recommended M...  \n",
       "8    4.0  Rated 4.0 stars out of 5. Love going here for ...  "
      ]
     },
     "execution_count": 3,
     "metadata": {},
     "output_type": "execute_result"
    }
   ],
   "source": [
    "# Selección de reviews positivas\n",
    "positive_reviews = yelp_reviews[yelp_reviews[\"stars\"] >= 4]\n",
    "positive_reviews.head()"
   ]
  },
  {
   "cell_type": "code",
   "execution_count": 4,
   "id": "22327a51",
   "metadata": {},
   "outputs": [
    {
     "data": {
      "text/plain": [
       "user_id\n",
       "B0FMcfBgh3Qe8EV_35EvaA    B0FMcfBgh3Qe8EV_35EvaA\n",
       "je_prwoc8_k_25EK9NsOtw    je_prwoc8_k_25EK9NsOtw\n",
       "UKi083DTL40b8Eyh5jh3OQ    UKi083DTL40b8Eyh5jh3OQ\n",
       "VnM17gnNyW9srO_Edl2EIA    VnM17gnNyW9srO_Edl2EIA\n",
       "wrFEiYUhHi1toO7kJeqJ3g    wrFEiYUhHi1toO7kJeqJ3g\n",
       "Name: user_id, dtype: object"
      ]
     },
     "execution_count": 4,
     "metadata": {},
     "output_type": "execute_result"
    }
   ],
   "source": [
    "# Selección de usuarios con 10 o más reviews positivas\n",
    "eligible_users = positive_reviews.groupby(\"user_id\").size()\n",
    "eligible_users = eligible_users[eligible_users >= 10].index\n",
    "\n",
    "# Muestreo\n",
    "test_users = eligible_users.to_series().sample(n = 10000, random_state = 32)\n",
    "test_users.head()"
   ]
  },
  {
   "cell_type": "markdown",
   "id": "5bba05f0",
   "metadata": {},
   "source": [
    "### 2.1. Subconjunto de entrenamiento"
   ]
  },
  {
   "cell_type": "code",
   "execution_count": 5,
   "id": "e2ca99eb",
   "metadata": {},
   "outputs": [
    {
     "name": "stdout",
     "output_type": "stream",
     "text": [
      "Total training reviews: 4279039\n"
     ]
    },
    {
     "data": {
      "text/html": [
       "<div>\n",
       "<style scoped>\n",
       "    .dataframe tbody tr th:only-of-type {\n",
       "        vertical-align: middle;\n",
       "    }\n",
       "\n",
       "    .dataframe tbody tr th {\n",
       "        vertical-align: top;\n",
       "    }\n",
       "\n",
       "    .dataframe thead th {\n",
       "        text-align: right;\n",
       "    }\n",
       "</style>\n",
       "<table border=\"1\" class=\"dataframe\">\n",
       "  <thead>\n",
       "    <tr style=\"text-align: right;\">\n",
       "      <th></th>\n",
       "      <th>review_id</th>\n",
       "      <th>user_id</th>\n",
       "      <th>business_id</th>\n",
       "      <th>stars</th>\n",
       "      <th>text</th>\n",
       "    </tr>\n",
       "  </thead>\n",
       "  <tbody>\n",
       "    <tr>\n",
       "      <th>0</th>\n",
       "      <td>KU_O5udG6zpxOg-VcAEodg</td>\n",
       "      <td>mh_-eMZ6K5RLWhZyISBhwA</td>\n",
       "      <td>XQfwVwDr-v0ZS3_CbbE5Xw</td>\n",
       "      <td>3.0</td>\n",
       "      <td>Rated 3.0 stars out of 5. If you decide to eat...</td>\n",
       "    </tr>\n",
       "    <tr>\n",
       "      <th>1</th>\n",
       "      <td>saUsX_uimxRlCVr67Z4Jig</td>\n",
       "      <td>8g_iMtfSiwikVnbP2etR0A</td>\n",
       "      <td>YjUWPpI6HXG530lwP-fb2A</td>\n",
       "      <td>3.0</td>\n",
       "      <td>Rated 3.0 stars out of 5. Family diner. Had th...</td>\n",
       "    </tr>\n",
       "    <tr>\n",
       "      <th>2</th>\n",
       "      <td>AqPFMleE6RsU23_auESxiA</td>\n",
       "      <td>_7bHUi9Uuf5__HHc_Q8guQ</td>\n",
       "      <td>kxX2SOes4o-D3ZQBkiMRfA</td>\n",
       "      <td>5.0</td>\n",
       "      <td>Rated 5.0 stars out of 5. Wow!  Yummy, differe...</td>\n",
       "    </tr>\n",
       "    <tr>\n",
       "      <th>3</th>\n",
       "      <td>Sx8TMOWLNuJBWer-0pcmoA</td>\n",
       "      <td>bcjbaE6dDog4jkNY91ncLQ</td>\n",
       "      <td>e4Vwtrqf-wpJfwesgvdgxQ</td>\n",
       "      <td>4.0</td>\n",
       "      <td>Rated 4.0 stars out of 5. Cute interior and ow...</td>\n",
       "    </tr>\n",
       "    <tr>\n",
       "      <th>4</th>\n",
       "      <td>JrIxlS1TzJ-iCu79ul40cQ</td>\n",
       "      <td>eUta8W_HdHMXPzLBBZhL1A</td>\n",
       "      <td>04UD14gamNjLY0IDYVhHJg</td>\n",
       "      <td>1.0</td>\n",
       "      <td>Rated 1.0 stars out of 5. I am a long term fre...</td>\n",
       "    </tr>\n",
       "  </tbody>\n",
       "</table>\n",
       "</div>"
      ],
      "text/plain": [
       "                review_id                 user_id             business_id  \\\n",
       "0  KU_O5udG6zpxOg-VcAEodg  mh_-eMZ6K5RLWhZyISBhwA  XQfwVwDr-v0ZS3_CbbE5Xw   \n",
       "1  saUsX_uimxRlCVr67Z4Jig  8g_iMtfSiwikVnbP2etR0A  YjUWPpI6HXG530lwP-fb2A   \n",
       "2  AqPFMleE6RsU23_auESxiA  _7bHUi9Uuf5__HHc_Q8guQ  kxX2SOes4o-D3ZQBkiMRfA   \n",
       "3  Sx8TMOWLNuJBWer-0pcmoA  bcjbaE6dDog4jkNY91ncLQ  e4Vwtrqf-wpJfwesgvdgxQ   \n",
       "4  JrIxlS1TzJ-iCu79ul40cQ  eUta8W_HdHMXPzLBBZhL1A  04UD14gamNjLY0IDYVhHJg   \n",
       "\n",
       "   stars                                               text  \n",
       "0    3.0  Rated 3.0 stars out of 5. If you decide to eat...  \n",
       "1    3.0  Rated 3.0 stars out of 5. Family diner. Had th...  \n",
       "2    5.0  Rated 5.0 stars out of 5. Wow!  Yummy, differe...  \n",
       "3    4.0  Rated 4.0 stars out of 5. Cute interior and ow...  \n",
       "4    1.0  Rated 1.0 stars out of 5. I am a long term fre...  "
      ]
     },
     "execution_count": 5,
     "metadata": {},
     "output_type": "execute_result"
    }
   ],
   "source": [
    "train_reviews = yelp_reviews[~yelp_reviews[\"user_id\"].isin(test_users)]\n",
    "print(\"Total training reviews:\", train_reviews.shape[0])\n",
    "train_reviews.head()"
   ]
  },
  {
   "cell_type": "markdown",
   "id": "dbcf8300",
   "metadata": {},
   "source": [
    "### 2.2. Subconjunto de validación"
   ]
  },
  {
   "cell_type": "code",
   "execution_count": 6,
   "id": "748f02be",
   "metadata": {},
   "outputs": [
    {
     "name": "stdout",
     "output_type": "stream",
     "text": [
      "Total training reviews: 251611\n"
     ]
    },
    {
     "data": {
      "text/html": [
       "<div>\n",
       "<style scoped>\n",
       "    .dataframe tbody tr th:only-of-type {\n",
       "        vertical-align: middle;\n",
       "    }\n",
       "\n",
       "    .dataframe tbody tr th {\n",
       "        vertical-align: top;\n",
       "    }\n",
       "\n",
       "    .dataframe thead th {\n",
       "        text-align: right;\n",
       "    }\n",
       "</style>\n",
       "<table border=\"1\" class=\"dataframe\">\n",
       "  <thead>\n",
       "    <tr style=\"text-align: right;\">\n",
       "      <th></th>\n",
       "      <th>review_id</th>\n",
       "      <th>user_id</th>\n",
       "      <th>business_id</th>\n",
       "      <th>stars</th>\n",
       "      <th>text</th>\n",
       "    </tr>\n",
       "  </thead>\n",
       "  <tbody>\n",
       "    <tr>\n",
       "      <th>9</th>\n",
       "      <td>8JFGBuHMoiNDyfcxuWNtrA</td>\n",
       "      <td>smOvOajNG0lS4Pq7d8g4JQ</td>\n",
       "      <td>RZtGWDLCAtuipwaZ-UfjmQ</td>\n",
       "      <td>4.0</td>\n",
       "      <td>Rated 4.0 stars out of 5. Good food--loved the...</td>\n",
       "    </tr>\n",
       "    <tr>\n",
       "      <th>10</th>\n",
       "      <td>UBp0zWyH60Hmw6Fsasei7w</td>\n",
       "      <td>4Uh27DgGzsp6PqrH913giQ</td>\n",
       "      <td>otQS34_MymijPTdNBoBdCw</td>\n",
       "      <td>4.0</td>\n",
       "      <td>Rated 4.0 stars out of 5. The bun makes the So...</td>\n",
       "    </tr>\n",
       "    <tr>\n",
       "      <th>17</th>\n",
       "      <td>lUUhg8ltDsUZ9h0xnwY4Dg</td>\n",
       "      <td>RreNy--tOmXMl1en0wiBOg</td>\n",
       "      <td>cPepkJeRMtHapc_b2Oe_dw</td>\n",
       "      <td>4.0</td>\n",
       "      <td>Rated 4.0 stars out of 5. I was really between...</td>\n",
       "    </tr>\n",
       "    <tr>\n",
       "      <th>38</th>\n",
       "      <td>EoN2xyKvTTn9B-z1grhYxw</td>\n",
       "      <td>DBYhpb5hrAYgQjQaMhNYyQ</td>\n",
       "      <td>oJ4ik-4PZe6gexxW-tSmsw</td>\n",
       "      <td>4.0</td>\n",
       "      <td>Rated 4.0 stars out of 5. I love the Brewpub f...</td>\n",
       "    </tr>\n",
       "    <tr>\n",
       "      <th>66</th>\n",
       "      <td>onlgwy5qGDEzddsrnIvtWg</td>\n",
       "      <td>pYXeL0RCqus2IfhthYCOyA</td>\n",
       "      <td>W7NxQw8UYFR0HLPrI08tvw</td>\n",
       "      <td>4.0</td>\n",
       "      <td>Rated 4.0 stars out of 5. Don't know what it i...</td>\n",
       "    </tr>\n",
       "  </tbody>\n",
       "</table>\n",
       "</div>"
      ],
      "text/plain": [
       "                 review_id                 user_id             business_id  \\\n",
       "9   8JFGBuHMoiNDyfcxuWNtrA  smOvOajNG0lS4Pq7d8g4JQ  RZtGWDLCAtuipwaZ-UfjmQ   \n",
       "10  UBp0zWyH60Hmw6Fsasei7w  4Uh27DgGzsp6PqrH913giQ  otQS34_MymijPTdNBoBdCw   \n",
       "17  lUUhg8ltDsUZ9h0xnwY4Dg  RreNy--tOmXMl1en0wiBOg  cPepkJeRMtHapc_b2Oe_dw   \n",
       "38  EoN2xyKvTTn9B-z1grhYxw  DBYhpb5hrAYgQjQaMhNYyQ  oJ4ik-4PZe6gexxW-tSmsw   \n",
       "66  onlgwy5qGDEzddsrnIvtWg  pYXeL0RCqus2IfhthYCOyA  W7NxQw8UYFR0HLPrI08tvw   \n",
       "\n",
       "    stars                                               text  \n",
       "9     4.0  Rated 4.0 stars out of 5. Good food--loved the...  \n",
       "10    4.0  Rated 4.0 stars out of 5. The bun makes the So...  \n",
       "17    4.0  Rated 4.0 stars out of 5. I was really between...  \n",
       "38    4.0  Rated 4.0 stars out of 5. I love the Brewpub f...  \n",
       "66    4.0  Rated 4.0 stars out of 5. Don't know what it i...  "
      ]
     },
     "execution_count": 6,
     "metadata": {},
     "output_type": "execute_result"
    }
   ],
   "source": [
    "test_reviews = positive_reviews[positive_reviews[\"user_id\"].isin(test_users)]\n",
    "print(\"Total training reviews:\", test_reviews.shape[0])\n",
    "test_reviews.head()"
   ]
  },
  {
   "cell_type": "markdown",
   "id": "ececa054",
   "metadata": {},
   "source": [
    "## 3. Selección del restaurante a predecir por usuario"
   ]
  },
  {
   "cell_type": "code",
   "execution_count": 7,
   "id": "6b2463bb",
   "metadata": {},
   "outputs": [
    {
     "name": "stderr",
     "output_type": "stream",
     "text": [
      "C:\\Users\\arran\\AppData\\Local\\Temp\\ipykernel_15484\\1563664854.py:4: FutureWarning: DataFrameGroupBy.apply operated on the grouping columns. This behavior is deprecated, and in a future version of pandas the grouping columns will be excluded from the operation. Either pass `include_groups=False` to exclude the groupings or explicitly select the grouping columns after groupby to silence this warning.\n",
      "  .apply(lambda df: df.sample(1, random_state=32))[\"review_id\"]\n"
     ]
    },
    {
     "data": {
      "text/plain": [
       "10000"
      ]
     },
     "execution_count": 7,
     "metadata": {},
     "output_type": "execute_result"
    }
   ],
   "source": [
    "reviews_to_predict = (\n",
    "    test_reviews\n",
    "    .groupby(\"user_id\", group_keys=False)\n",
    "    .apply(lambda df: df.sample(1, random_state=32))[\"review_id\"]\n",
    "    .tolist()\n",
    ")\n",
    "len(reviews_to_predict)"
   ]
  },
  {
   "cell_type": "markdown",
   "id": "cc6f8351",
   "metadata": {},
   "source": [
    "### 3.1. Reseña con restaurante a predecir"
   ]
  },
  {
   "cell_type": "code",
   "execution_count": 8,
   "id": "570013ba",
   "metadata": {},
   "outputs": [
    {
     "name": "stdout",
     "output_type": "stream",
     "text": [
      "Total business to predict: 10000\n"
     ]
    },
    {
     "data": {
      "text/html": [
       "<div>\n",
       "<style scoped>\n",
       "    .dataframe tbody tr th:only-of-type {\n",
       "        vertical-align: middle;\n",
       "    }\n",
       "\n",
       "    .dataframe tbody tr th {\n",
       "        vertical-align: top;\n",
       "    }\n",
       "\n",
       "    .dataframe thead th {\n",
       "        text-align: right;\n",
       "    }\n",
       "</style>\n",
       "<table border=\"1\" class=\"dataframe\">\n",
       "  <thead>\n",
       "    <tr style=\"text-align: right;\">\n",
       "      <th></th>\n",
       "      <th>review_id</th>\n",
       "      <th>user_id</th>\n",
       "      <th>business_id</th>\n",
       "      <th>stars</th>\n",
       "      <th>text</th>\n",
       "    </tr>\n",
       "  </thead>\n",
       "  <tbody>\n",
       "    <tr>\n",
       "      <th>88</th>\n",
       "      <td>LnKr0hwejzl71QmoQyTRDQ</td>\n",
       "      <td>7RU_xK1tEGlUvXfe0GvtEg</td>\n",
       "      <td>hAmuto6UndVroyd_DaD-TA</td>\n",
       "      <td>5.0</td>\n",
       "      <td>Rated 5.0 stars out of 5. Not sure why it took...</td>\n",
       "    </tr>\n",
       "    <tr>\n",
       "      <th>367</th>\n",
       "      <td>EJWyA5wpdVMji1j4TwSZqQ</td>\n",
       "      <td>mqBWACmaHflW4eh_Ofp16Q</td>\n",
       "      <td>kxX2SOes4o-D3ZQBkiMRfA</td>\n",
       "      <td>5.0</td>\n",
       "      <td>Rated 5.0 stars out of 5. After a long hiatus ...</td>\n",
       "    </tr>\n",
       "    <tr>\n",
       "      <th>560</th>\n",
       "      <td>QEuRWU5UR6_z8hSs4pjjEA</td>\n",
       "      <td>jG-t2tqFuZLdqRHNn_y9bQ</td>\n",
       "      <td>7UxNDF6ZpabC3O0-Qbg3Xw</td>\n",
       "      <td>5.0</td>\n",
       "      <td>Rated 5.0 stars out of 5. My favorite place to...</td>\n",
       "    </tr>\n",
       "    <tr>\n",
       "      <th>581</th>\n",
       "      <td>7JKo522z7Fx6VfU27am4Rg</td>\n",
       "      <td>sHfY5a4-HPa9dhSSBvQK6Q</td>\n",
       "      <td>jQBPO3rYkNwIaOdQS5ktgQ</td>\n",
       "      <td>5.0</td>\n",
       "      <td>Rated 5.0 stars out of 5. Got a gift certifica...</td>\n",
       "    </tr>\n",
       "    <tr>\n",
       "      <th>615</th>\n",
       "      <td>YJU56J3q7mWp89xZ4H51tQ</td>\n",
       "      <td>JPhPZcdUXSSeplvPfW7Auw</td>\n",
       "      <td>Nd_3fSvYDCjM8YJdBx4Y9w</td>\n",
       "      <td>4.0</td>\n",
       "      <td>Rated 4.0 stars out of 5. The Honey Apple gril...</td>\n",
       "    </tr>\n",
       "  </tbody>\n",
       "</table>\n",
       "</div>"
      ],
      "text/plain": [
       "                  review_id                 user_id             business_id  \\\n",
       "88   LnKr0hwejzl71QmoQyTRDQ  7RU_xK1tEGlUvXfe0GvtEg  hAmuto6UndVroyd_DaD-TA   \n",
       "367  EJWyA5wpdVMji1j4TwSZqQ  mqBWACmaHflW4eh_Ofp16Q  kxX2SOes4o-D3ZQBkiMRfA   \n",
       "560  QEuRWU5UR6_z8hSs4pjjEA  jG-t2tqFuZLdqRHNn_y9bQ  7UxNDF6ZpabC3O0-Qbg3Xw   \n",
       "581  7JKo522z7Fx6VfU27am4Rg  sHfY5a4-HPa9dhSSBvQK6Q  jQBPO3rYkNwIaOdQS5ktgQ   \n",
       "615  YJU56J3q7mWp89xZ4H51tQ  JPhPZcdUXSSeplvPfW7Auw  Nd_3fSvYDCjM8YJdBx4Y9w   \n",
       "\n",
       "     stars                                               text  \n",
       "88     5.0  Rated 5.0 stars out of 5. Not sure why it took...  \n",
       "367    5.0  Rated 5.0 stars out of 5. After a long hiatus ...  \n",
       "560    5.0  Rated 5.0 stars out of 5. My favorite place to...  \n",
       "581    5.0  Rated 5.0 stars out of 5. Got a gift certifica...  \n",
       "615    4.0  Rated 4.0 stars out of 5. The Honey Apple gril...  "
      ]
     },
     "execution_count": 8,
     "metadata": {},
     "output_type": "execute_result"
    }
   ],
   "source": [
    "business_to_predict = test_reviews[test_reviews[\"review_id\"].isin(reviews_to_predict)]\n",
    "print(\"Total business to predict:\", business_to_predict.shape[0])\n",
    "business_to_predict.head()"
   ]
  },
  {
   "cell_type": "markdown",
   "id": "6a46f0c8",
   "metadata": {},
   "source": [
    "### 3.2. Reseñas para generar inputs"
   ]
  },
  {
   "cell_type": "code",
   "execution_count": 9,
   "id": "67fd8685",
   "metadata": {},
   "outputs": [
    {
     "name": "stdout",
     "output_type": "stream",
     "text": [
      "Total reviews to make queries: 241611\n"
     ]
    },
    {
     "data": {
      "text/html": [
       "<div>\n",
       "<style scoped>\n",
       "    .dataframe tbody tr th:only-of-type {\n",
       "        vertical-align: middle;\n",
       "    }\n",
       "\n",
       "    .dataframe tbody tr th {\n",
       "        vertical-align: top;\n",
       "    }\n",
       "\n",
       "    .dataframe thead th {\n",
       "        text-align: right;\n",
       "    }\n",
       "</style>\n",
       "<table border=\"1\" class=\"dataframe\">\n",
       "  <thead>\n",
       "    <tr style=\"text-align: right;\">\n",
       "      <th></th>\n",
       "      <th>review_id</th>\n",
       "      <th>user_id</th>\n",
       "      <th>business_id</th>\n",
       "      <th>stars</th>\n",
       "      <th>text</th>\n",
       "    </tr>\n",
       "  </thead>\n",
       "  <tbody>\n",
       "    <tr>\n",
       "      <th>9</th>\n",
       "      <td>8JFGBuHMoiNDyfcxuWNtrA</td>\n",
       "      <td>smOvOajNG0lS4Pq7d8g4JQ</td>\n",
       "      <td>RZtGWDLCAtuipwaZ-UfjmQ</td>\n",
       "      <td>4.0</td>\n",
       "      <td>Rated 4.0 stars out of 5. Good food--loved the...</td>\n",
       "    </tr>\n",
       "    <tr>\n",
       "      <th>10</th>\n",
       "      <td>UBp0zWyH60Hmw6Fsasei7w</td>\n",
       "      <td>4Uh27DgGzsp6PqrH913giQ</td>\n",
       "      <td>otQS34_MymijPTdNBoBdCw</td>\n",
       "      <td>4.0</td>\n",
       "      <td>Rated 4.0 stars out of 5. The bun makes the So...</td>\n",
       "    </tr>\n",
       "    <tr>\n",
       "      <th>17</th>\n",
       "      <td>lUUhg8ltDsUZ9h0xnwY4Dg</td>\n",
       "      <td>RreNy--tOmXMl1en0wiBOg</td>\n",
       "      <td>cPepkJeRMtHapc_b2Oe_dw</td>\n",
       "      <td>4.0</td>\n",
       "      <td>Rated 4.0 stars out of 5. I was really between...</td>\n",
       "    </tr>\n",
       "    <tr>\n",
       "      <th>38</th>\n",
       "      <td>EoN2xyKvTTn9B-z1grhYxw</td>\n",
       "      <td>DBYhpb5hrAYgQjQaMhNYyQ</td>\n",
       "      <td>oJ4ik-4PZe6gexxW-tSmsw</td>\n",
       "      <td>4.0</td>\n",
       "      <td>Rated 4.0 stars out of 5. I love the Brewpub f...</td>\n",
       "    </tr>\n",
       "    <tr>\n",
       "      <th>66</th>\n",
       "      <td>onlgwy5qGDEzddsrnIvtWg</td>\n",
       "      <td>pYXeL0RCqus2IfhthYCOyA</td>\n",
       "      <td>W7NxQw8UYFR0HLPrI08tvw</td>\n",
       "      <td>4.0</td>\n",
       "      <td>Rated 4.0 stars out of 5. Don't know what it i...</td>\n",
       "    </tr>\n",
       "  </tbody>\n",
       "</table>\n",
       "</div>"
      ],
      "text/plain": [
       "                 review_id                 user_id             business_id  \\\n",
       "9   8JFGBuHMoiNDyfcxuWNtrA  smOvOajNG0lS4Pq7d8g4JQ  RZtGWDLCAtuipwaZ-UfjmQ   \n",
       "10  UBp0zWyH60Hmw6Fsasei7w  4Uh27DgGzsp6PqrH913giQ  otQS34_MymijPTdNBoBdCw   \n",
       "17  lUUhg8ltDsUZ9h0xnwY4Dg  RreNy--tOmXMl1en0wiBOg  cPepkJeRMtHapc_b2Oe_dw   \n",
       "38  EoN2xyKvTTn9B-z1grhYxw  DBYhpb5hrAYgQjQaMhNYyQ  oJ4ik-4PZe6gexxW-tSmsw   \n",
       "66  onlgwy5qGDEzddsrnIvtWg  pYXeL0RCqus2IfhthYCOyA  W7NxQw8UYFR0HLPrI08tvw   \n",
       "\n",
       "    stars                                               text  \n",
       "9     4.0  Rated 4.0 stars out of 5. Good food--loved the...  \n",
       "10    4.0  Rated 4.0 stars out of 5. The bun makes the So...  \n",
       "17    4.0  Rated 4.0 stars out of 5. I was really between...  \n",
       "38    4.0  Rated 4.0 stars out of 5. I love the Brewpub f...  \n",
       "66    4.0  Rated 4.0 stars out of 5. Don't know what it i...  "
      ]
     },
     "execution_count": 9,
     "metadata": {},
     "output_type": "execute_result"
    }
   ],
   "source": [
    "reviews_to_query = test_reviews[~test_reviews[\"review_id\"].isin(reviews_to_predict)]\n",
    "print(\"Total reviews to make queries:\", reviews_to_query.shape[0])\n",
    "reviews_to_query.head()"
   ]
  },
  {
   "cell_type": "markdown",
   "id": "0e566e32",
   "metadata": {},
   "source": [
    "## 4. Dataset final"
   ]
  },
  {
   "cell_type": "code",
   "execution_count": 10,
   "id": "158a1ab6",
   "metadata": {},
   "outputs": [
    {
     "name": "stdout",
     "output_type": "stream",
     "text": [
      "Total validation samples: 10000\n"
     ]
    },
    {
     "data": {
      "text/html": [
       "<div>\n",
       "<style scoped>\n",
       "    .dataframe tbody tr th:only-of-type {\n",
       "        vertical-align: middle;\n",
       "    }\n",
       "\n",
       "    .dataframe tbody tr th {\n",
       "        vertical-align: top;\n",
       "    }\n",
       "\n",
       "    .dataframe thead th {\n",
       "        text-align: right;\n",
       "    }\n",
       "</style>\n",
       "<table border=\"1\" class=\"dataframe\">\n",
       "  <thead>\n",
       "    <tr style=\"text-align: right;\">\n",
       "      <th></th>\n",
       "      <th>user_id</th>\n",
       "      <th>business_id</th>\n",
       "      <th>text</th>\n",
       "    </tr>\n",
       "  </thead>\n",
       "  <tbody>\n",
       "    <tr>\n",
       "      <th>0</th>\n",
       "      <td>7RU_xK1tEGlUvXfe0GvtEg</td>\n",
       "      <td>hAmuto6UndVroyd_DaD-TA</td>\n",
       "      <td>[Rated 5.0 stars out of 5. Love Marcos Pizza. ...</td>\n",
       "    </tr>\n",
       "    <tr>\n",
       "      <th>1</th>\n",
       "      <td>mqBWACmaHflW4eh_Ofp16Q</td>\n",
       "      <td>kxX2SOes4o-D3ZQBkiMRfA</td>\n",
       "      <td>[Rated 5.0 stars out of 5. That bitter sweet d...</td>\n",
       "    </tr>\n",
       "    <tr>\n",
       "      <th>2</th>\n",
       "      <td>jG-t2tqFuZLdqRHNn_y9bQ</td>\n",
       "      <td>7UxNDF6ZpabC3O0-Qbg3Xw</td>\n",
       "      <td>[Rated 5.0 stars out of 5. Atmosphere was plea...</td>\n",
       "    </tr>\n",
       "    <tr>\n",
       "      <th>3</th>\n",
       "      <td>sHfY5a4-HPa9dhSSBvQK6Q</td>\n",
       "      <td>jQBPO3rYkNwIaOdQS5ktgQ</td>\n",
       "      <td>[Rated 5.0 stars out of 5. I can't get enough ...</td>\n",
       "    </tr>\n",
       "    <tr>\n",
       "      <th>4</th>\n",
       "      <td>JPhPZcdUXSSeplvPfW7Auw</td>\n",
       "      <td>Nd_3fSvYDCjM8YJdBx4Y9w</td>\n",
       "      <td>[Rated 4.0 stars out of 5. Cozy atmosphere, fr...</td>\n",
       "    </tr>\n",
       "  </tbody>\n",
       "</table>\n",
       "</div>"
      ],
      "text/plain": [
       "                  user_id             business_id  \\\n",
       "0  7RU_xK1tEGlUvXfe0GvtEg  hAmuto6UndVroyd_DaD-TA   \n",
       "1  mqBWACmaHflW4eh_Ofp16Q  kxX2SOes4o-D3ZQBkiMRfA   \n",
       "2  jG-t2tqFuZLdqRHNn_y9bQ  7UxNDF6ZpabC3O0-Qbg3Xw   \n",
       "3  sHfY5a4-HPa9dhSSBvQK6Q  jQBPO3rYkNwIaOdQS5ktgQ   \n",
       "4  JPhPZcdUXSSeplvPfW7Auw  Nd_3fSvYDCjM8YJdBx4Y9w   \n",
       "\n",
       "                                                text  \n",
       "0  [Rated 5.0 stars out of 5. Love Marcos Pizza. ...  \n",
       "1  [Rated 5.0 stars out of 5. That bitter sweet d...  \n",
       "2  [Rated 5.0 stars out of 5. Atmosphere was plea...  \n",
       "3  [Rated 5.0 stars out of 5. I can't get enough ...  \n",
       "4  [Rated 4.0 stars out of 5. Cozy atmosphere, fr...  "
      ]
     },
     "execution_count": 10,
     "metadata": {},
     "output_type": "execute_result"
    }
   ],
   "source": [
    "reviews_to_query = reviews_to_query.groupby(\"user_id\")[\"text\"].apply(list).reset_index()\n",
    "validation_df = pd.merge(business_to_predict.loc[: , [\"user_id\", \"business_id\"]],\n",
    "                         reviews_to_query.loc[: , [\"user_id\", \"text\"]],\n",
    "                         how = \"left\", on = \"user_id\")\n",
    "\n",
    "print(\"Total validation samples:\", validation_df.shape[0])\n",
    "validation_df.head()"
   ]
  },
  {
   "cell_type": "code",
   "execution_count": 11,
   "id": "a5b3bdb0",
   "metadata": {},
   "outputs": [],
   "source": [
    "validation_df.to_csv(\"yelp_validation.csv\", index = False)\n",
    "train_reviews.to_csv(\"yelp_reviews_for_validation.csv\", index = False)"
   ]
  }
 ],
 "metadata": {
  "kernelspec": {
   "display_name": "venv",
   "language": "python",
   "name": "python3"
  },
  "language_info": {
   "codemirror_mode": {
    "name": "ipython",
    "version": 3
   },
   "file_extension": ".py",
   "mimetype": "text/x-python",
   "name": "python",
   "nbconvert_exporter": "python",
   "pygments_lexer": "ipython3",
   "version": "3.12.1"
  }
 },
 "nbformat": 4,
 "nbformat_minor": 5
}
